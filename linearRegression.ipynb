{
 "cells": [
  {
   "cell_type": "code",
   "execution_count": null,
   "metadata": {},
   "outputs": [
    {
     "name": "stdout",
     "output_type": "stream",
     "text": [
      "Accuracy: 1.0\n",
      "Classification Report:\n",
      "               precision    recall  f1-score   support\n",
      "\n",
      "           0       1.00      1.00      1.00         2\n",
      "\n",
      "    accuracy                           1.00         2\n",
      "   macro avg       1.00      1.00      1.00         2\n",
      "weighted avg       1.00      1.00      1.00         2\n",
      "\n",
      "Probability of satisfying answer: 0.3620892124337633\n"
     ]
    }
   ],
   "source": [
    "import pandas as pd\n",
    "from sklearn.model_selection import train_test_split\n",
    "from sklearn.preprocessing import LabelEncoder, StandardScaler\n",
    "from sklearn.linear_model import LogisticRegression\n",
    "from sklearn.pipeline import Pipeline\n",
    "from sklearn.metrics import classification_report, accuracy_score\n",
    "\n",
    "# Sample data as we don't have user data currently\n",
    "data = {\n",
    "    \"cluster\": [\"A\", \"B\", \"A\", \"C\", \"B\", \"C\", \"A\"],\n",
    "    \"user_feedback\": [5, 4, 2, 3, 1, 5, 4],\n",
    "    \"cluster_false\": [0, 0, 1, 0, 1, 0, 0],\n",
    "}\n",
    "df = pd.DataFrame(data)\n",
    "\n",
    "label_encoder = LabelEncoder()\n",
    "df[\"cluster_encoded\"] = label_encoder.fit_transform(df[\"cluster\"])\n",
    "# LabelEncoder: Encodes categorical text labels into numerical form.\n",
    "# fit_transform: Fits the encoder to the unique values in the \"cluster\" column and transforms the column into numerical values. For example:\n",
    "# \"A\" → 0\n",
    "# \"B\" → 1\n",
    "# \"C\" → 2\n",
    "\n",
    "X = df[[\"cluster_encoded\", \"user_feedback\"]]\n",
    "y = df[\"cluster_false\"]\n",
    "# X: Features used for prediction (independent variables). It includes:\n",
    "# cluster_encoded: Encoded cluster labels.\n",
    "# user_feedback: User feedback scores.\n",
    "# y: Target variable (dependent variable). Here, cluster_false indicates whether the cluster label is false.\n",
    "\n",
    "# Split data into train-test sets\n",
    "X_train, X_test, y_train, y_test = train_test_split(X, y, test_size=0.2, random_state=42)\n",
    "\n",
    "# Create a pipeline for scaling and logistic regression\n",
    "pipeline = Pipeline([\n",
    "    (\"scaler\", StandardScaler()),\n",
    "    (\"log_reg\", LogisticRegression())\n",
    "])\n",
    "# Pipeline: Combines multiple steps into a single workflow:\n",
    "# scaler: Scales the input features using StandardScaler.\n",
    "# log_reg: Fits a logistic regression model to the scaled data.\n",
    "\n",
    "pipeline.fit(X_train, y_train)\n",
    "# fit: Trains the entire pipeline (scaling + logistic regression) using the training data.\n",
    "\n",
    "y_pred = pipeline.predict(X_test)\n",
    "# predict: Generates predictions for the test data using the trained pipeline.\n",
    "\n",
    "print(\"Accuracy:\", accuracy_score(y_test, y_pred))\n",
    "print(\"Classification Report:\\n\", classification_report(y_test, y_pred))\n",
    "# accuracy_score: Calculates the overall accuracy of predictions.\n",
    "# classification_report: Provides detailed metrics like precision, recall, and F1-score for the classification results.\n",
    "\n",
    "# Predict probabilities for a sample new input\n",
    "sample_input = pd.DataFrame({\"cluster_encoded\": [1], \"user_feedback\": [3]})\n",
    "# sample_input: Creates a new data point with:\n",
    "# Cluster \"B\" (encoded as 1).\n",
    "# User feedback score of 3.\n",
    "\n",
    "probabilities = pipeline.predict_proba(sample_input)\n",
    "print(\"Probability of satisfying answer:\", probabilities[0][1])\n",
    "# predict_proba: Returns the predicted probabilities for each class.\n",
    "# probabilities[0][1]: The probability of the positive class (cluster_false = 1), indicating the likelihood of the cluster label being false.\n"
   ]
  },
  {
   "cell_type": "code",
   "execution_count": null,
   "metadata": {},
   "outputs": [],
   "source": []
  },
  {
   "cell_type": "code",
   "execution_count": null,
   "metadata": {},
   "outputs": [],
   "source": []
  }
 ],
 "metadata": {
  "kernelspec": {
   "display_name": "notebook_env",
   "language": "python",
   "name": "python3"
  },
  "language_info": {
   "codemirror_mode": {
    "name": "ipython",
    "version": 3
   },
   "file_extension": ".py",
   "mimetype": "text/x-python",
   "name": "python",
   "nbconvert_exporter": "python",
   "pygments_lexer": "ipython3",
   "version": "3.12.3"
  }
 },
 "nbformat": 4,
 "nbformat_minor": 2
}
